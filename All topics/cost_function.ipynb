{
 "cells": [
  {
   "cell_type": "code",
   "execution_count": 8,
   "id": "64ccb055-cc33-467b-b672-3c6cb08d155c",
   "metadata": {},
   "outputs": [],
   "source": [
    "import numpy as np\n",
    "import math"
   ]
  },
  {
   "cell_type": "code",
   "execution_count": 9,
   "id": "8ee38b6e-fec0-4f69-8fbd-12226042d48e",
   "metadata": {},
   "outputs": [],
   "source": [
    "y_predicated = np.array([1,1,0,0,1])\n",
    "y_true = np.array([0.30,0.7,1,0,0.5])"
   ]
  },
  {
   "cell_type": "markdown",
   "id": "3ea40861-51e0-47f3-b0c0-0a8da1983813",
   "metadata": {},
   "source": [
    "Mean Absolute error"
   ]
  },
  {
   "cell_type": "code",
   "execution_count": 10,
   "id": "25a12164-cebe-4558-97bd-c5648cf7b6dd",
   "metadata": {},
   "outputs": [],
   "source": [
    "def mae(y_true,y_predicated):\n",
    "    total_error = 0\n",
    "    for yp,yt in zip (y_predicated,y_true):\n",
    "        total_error+= abs(yp-yt)\n",
    "        mae = total_error/len(y_true)\n",
    "        print(\"Mean Absolute error: \",mae)\n",
    "\n",
    "        return total_error"
   ]
  },
  {
   "cell_type": "code",
   "execution_count": 11,
   "id": "e0de11ec-2f8b-478a-b1e6-4c8803e6d9a7",
   "metadata": {},
   "outputs": [
    {
     "name": "stdout",
     "output_type": "stream",
     "text": [
      "Mean Absolute error:  0.13999999999999999\n"
     ]
    },
    {
     "data": {
      "text/plain": [
       "0.7"
      ]
     },
     "execution_count": 11,
     "metadata": {},
     "output_type": "execute_result"
    }
   ],
   "source": [
    "mae(y_true,y_predicated)"
   ]
  },
  {
   "cell_type": "markdown",
   "id": "ffd2afb1-9eea-49b4-8eef-1900967497e1",
   "metadata": {},
   "source": [
    "log function or Binary Cross Entropy"
   ]
  },
  {
   "cell_type": "code",
   "execution_count": 12,
   "id": "d5b859f6-edcc-41c2-86b8-43f227febaed",
   "metadata": {},
   "outputs": [],
   "source": [
    "elipson = 1e-15"
   ]
  },
  {
   "cell_type": "code",
   "execution_count": 14,
   "id": "73fddf72-7fef-47a6-803c-3e496f38d144",
   "metadata": {},
   "outputs": [
    {
     "data": {
      "text/plain": [
       "array([1, 1, 0, 0, 1])"
      ]
     },
     "execution_count": 14,
     "metadata": {},
     "output_type": "execute_result"
    }
   ],
   "source": [
    "y_predicated"
   ]
  },
  {
   "cell_type": "code",
   "execution_count": 18,
   "id": "a797516f-fe9f-4982-aa90-9aa02677e750",
   "metadata": {},
   "outputs": [
    {
     "data": {
      "text/plain": [
       "[1, 1, 1e-15, 1e-15, 1]"
      ]
     },
     "execution_count": 18,
     "metadata": {},
     "output_type": "execute_result"
    }
   ],
   "source": [
    "y_predicated_new = [max(i,elipson) for i in y_predicated]\n",
    "y_predicated_new"
   ]
  },
  {
   "cell_type": "code",
   "execution_count": 19,
   "id": "1221b96e-eea8-4802-bf28-a21e0211548f",
   "metadata": {},
   "outputs": [],
   "source": [
    "def log_loss(y_true,y_predicated):\n",
    "    y_predicated_new = [max(i,elipson) for i in y_predicated]\n",
    "    y_predicated_new = [min(i,1-elipson) for i in y_predicated_new]\n",
    "    y_predicated_new = np.array(y_predicated_new)\n",
    "    return -np.mean(y_true*np.log(y_predicated_new)+(1-y_true)*np.log(y_predicated_new))"
   ]
  },
  {
   "cell_type": "code",
   "execution_count": 21,
   "id": "b9b62ade-be24-4a56-af14-0755eeacc436",
   "metadata": {},
   "outputs": [
    {
     "data": {
      "text/plain": [
       "13.815510557964274"
      ]
     },
     "execution_count": 21,
     "metadata": {},
     "output_type": "execute_result"
    }
   ],
   "source": [
    "log_loss(y_true ,y_predicated)"
   ]
  },
  {
   "cell_type": "markdown",
   "id": "35c88c3e-af80-4c0a-ab12-44d44c40bf4a",
   "metadata": {},
   "source": [
    "Mean Squared Error"
   ]
  },
  {
   "cell_type": "code",
   "execution_count": 22,
   "id": "528166eb-3451-4dd5-95b6-701651a0d514",
   "metadata": {},
   "outputs": [],
   "source": [
    "def mse(y_true,y_predicated):\n",
    "    total_error = 0\n",
    "    for yp,yt in zip (y_predicated,y_true):\n",
    "        total_error+= (yp-yt)\n",
    "        np.power(total_error,2)\n",
    "        mae = total_error/len(y_true)\n",
    "        print(\"Mean Square error: \",mae)\n",
    "\n",
    "        return total_error"
   ]
  },
  {
   "cell_type": "code",
   "execution_count": 23,
   "id": "111546bf-391b-4fb5-b04a-2878ef2a128e",
   "metadata": {},
   "outputs": [
    {
     "name": "stdout",
     "output_type": "stream",
     "text": [
      "Mean Square error:  0.13999999999999999\n"
     ]
    },
    {
     "data": {
      "text/plain": [
       "0.7"
      ]
     },
     "execution_count": 23,
     "metadata": {},
     "output_type": "execute_result"
    }
   ],
   "source": [
    "mse(y_true,y_predicated)"
   ]
  },
  {
   "cell_type": "code",
   "execution_count": null,
   "id": "d4c2d7a0-9434-4cbc-b6f4-a870d99a1d44",
   "metadata": {},
   "outputs": [],
   "source": []
  }
 ],
 "metadata": {
  "kernelspec": {
   "display_name": "Python 3 (ipykernel)",
   "language": "python",
   "name": "python3"
  },
  "language_info": {
   "codemirror_mode": {
    "name": "ipython",
    "version": 3
   },
   "file_extension": ".py",
   "mimetype": "text/x-python",
   "name": "python",
   "nbconvert_exporter": "python",
   "pygments_lexer": "ipython3",
   "version": "3.11.5"
  }
 },
 "nbformat": 4,
 "nbformat_minor": 5
}
